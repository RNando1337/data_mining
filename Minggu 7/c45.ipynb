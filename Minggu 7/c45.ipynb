{
 "cells": [
  {
   "cell_type": "code",
   "execution_count": 1,
   "id": "06777452",
   "metadata": {},
   "outputs": [],
   "source": [
    "import numpy as np\n",
    "import pandas as pd\n",
    "from sklearn import tree"
   ]
  },
  {
   "cell_type": "code",
   "execution_count": 2,
   "id": "26932ae1",
   "metadata": {},
   "outputs": [],
   "source": [
    "irisDataset = pd.read_csv(\"diabetes.csv\",delimiter=',',header=0)\n",
    "irisDataset = irisDataset.to_numpy()"
   ]
  },
  {
   "cell_type": "code",
   "execution_count": 3,
   "id": "20d8a73c",
   "metadata": {},
   "outputs": [],
   "source": [
    "dataTraining = np.concatenate((irisDataset[0:40,:],\n",
    "                             irisDataset[50:90,:]), axis=0)\n",
    "dataTesting = np.concatenate((irisDataset[40:50,:],\n",
    "                             irisDataset[90:100,:]), axis=0)\n",
    "\n",
    "inputTraining = dataTraining[:, 0:4]\n",
    "inputTesting = dataTesting[:, 0:4]\n",
    "labelTraining = dataTraining[:,4]\n",
    "labelTesting = dataTesting[:,4]"
   ]
  },
  {
   "cell_type": "code",
   "execution_count": 4,
   "id": "0caeb19d",
   "metadata": {},
   "outputs": [
    {
     "name": "stdout",
     "output_type": "stream",
     "text": [
      "label sebenarnya [ 70.   0.   0. 240.   0.   0.   0.   0.   0.   0.   0. 176.  48.   0.\n",
      "  64. 228.   0.  76.  64.]\n",
      "hasil prediksi [100.   0.   0. 100.   0. 168.   0.  71.   0.   0.   0.  96.  71.   0.\n",
      " 175. 100.   0.   0.   0.]\n",
      "prediksi benar: 9  data\n",
      "prediksi salah: 10  data\n",
      "akurasi:  47.368421052631575 %\n"
     ]
    }
   ],
   "source": [
    "model = tree.DecisionTreeClassifier()\n",
    "model = model.fit(inputTraining, labelTraining)\n",
    "\n",
    "hasilprediksi = model.predict(inputTesting)\n",
    "print(\"label sebenarnya\", labelTesting)\n",
    "print(\"hasil prediksi\", hasilprediksi)\n",
    "\n",
    "prediksiBenar = (hasilprediksi == labelTesting).sum()\n",
    "prediksiSalah = (hasilprediksi != labelTesting).sum()\n",
    "print(\"prediksi benar:\", prediksiBenar, \" data\")\n",
    "print(\"prediksi salah:\", prediksiSalah, \" data\")\n",
    "print(\"akurasi: \", prediksiBenar/(prediksiBenar+prediksiSalah)*100, \"%\")"
   ]
  },
  {
   "cell_type": "code",
   "execution_count": null,
   "id": "ede8976a",
   "metadata": {},
   "outputs": [],
   "source": []
  }
 ],
 "metadata": {
  "kernelspec": {
   "display_name": "Python 3 (ipykernel)",
   "language": "python",
   "name": "python3"
  },
  "language_info": {
   "codemirror_mode": {
    "name": "ipython",
    "version": 3
   },
   "file_extension": ".py",
   "mimetype": "text/x-python",
   "name": "python",
   "nbconvert_exporter": "python",
   "pygments_lexer": "ipython3",
   "version": "3.10.2"
  }
 },
 "nbformat": 4,
 "nbformat_minor": 5
}
